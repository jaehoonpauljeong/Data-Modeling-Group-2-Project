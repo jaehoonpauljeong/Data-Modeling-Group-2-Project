{
 "cells": [
  {
   "cell_type": "code",
   "execution_count": 1,
   "metadata": {},
   "outputs": [],
   "source": [
    "import os\n",
    "from dotenv import load_dotenv"
   ]
  },
  {
   "cell_type": "code",
   "execution_count": 2,
   "metadata": {},
   "outputs": [
    {
     "name": "stdout",
     "output_type": "stream",
     "text": [
      "API key loaded successfully.\n"
     ]
    }
   ],
   "source": [
    "# Load the API key from the .env file\n",
    "load_dotenv()\n",
    "OPENAI_API_KEY = os.getenv('OPENAI_API_KEY')\n",
    "\n",
    "if OPENAI_API_KEY:\n",
    "    print(\"API key loaded successfully.\")\n",
    "else:\n",
    "    raise ValueError(\"Error loading API key. Check that OPENAI_API_KEY is set inside .env\")"
   ]
  },
  {
   "cell_type": "markdown",
   "metadata": {},
   "source": [
    "## Few-Shot Prompting\n",
    "https://python.langchain.com/docs/how_to/few_shot_examples/"
   ]
  },
  {
   "cell_type": "code",
   "execution_count": 3,
   "metadata": {},
   "outputs": [],
   "source": [
    "from langchain.prompts import FewShotPromptTemplate\n",
    "from langchain_core.prompts import PromptTemplate"
   ]
  },
  {
   "cell_type": "markdown",
   "metadata": {},
   "source": [
    "### Example Set"
   ]
  },
  {
   "cell_type": "code",
   "execution_count": 4,
   "metadata": {},
   "outputs": [],
   "source": [
    "example_prompt = PromptTemplate.from_template(\"Question: {input}\\n{output}\")"
   ]
  },
  {
   "cell_type": "code",
   "execution_count": 5,
   "metadata": {},
   "outputs": [],
   "source": [
    "examples = [\n",
    "    {\n",
    "        \"input\": \"Block my son's computers from malicious websites.\",\n",
    "        \"output\": \"\"\"\n",
    "<i2nsf-cfi-policy\n",
    "    xmlns=\"urn:ietf:params:xml:ns:yang:ietf-i2nsf-cfi-policy\">\n",
    "    <name>block_web_security_policy</name>\n",
    "    <rules>\n",
    "        <name>block_web</name>\n",
    "        <condition>\n",
    "            <firewall-condition>\n",
    "                <source>Son's_PC</source>\n",
    "            </firewall-condition>\n",
    "            <url-condition>\n",
    "                <url-name>malicious_websites</url-name>\n",
    "            </url-condition>\n",
    "        </condition>\n",
    "        <actions>\n",
    "            <primary-action>\n",
    "                <action>drop</action>\n",
    "            </primary-action>\n",
    "        </actions>\n",
    "    </rules>\n",
    "</i2nsf-cfi-policy>\n",
    "        \"\"\"\n",
    "    },\n",
    "    {\n",
    "        \"input\": \"Restrict access to adult content from all devices.\",\n",
    "        \"output\": \"\"\"\n",
    "<i2nsf-cfi-policy\n",
    "    xmlns=\"urn:ietf:params:xml:ns:yang:ietf-i2nsf-cfi-policy\">\n",
    "    <name>restrict_adult_content_policy</name>\n",
    "    <rules>\n",
    "        <name>restrict_adult</name>\n",
    "        <condition>\n",
    "            <url-condition>\n",
    "                <url-name>adult_content</url-name>\n",
    "            </url-condition>\n",
    "        </condition>\n",
    "        <actions>\n",
    "            <primary-action>\n",
    "                <action>drop</action>\n",
    "            </primary-action>\n",
    "        </actions>\n",
    "    </rules>\n",
    "</i2nsf-cfi-policy>\n",
    "        \"\"\"\n",
    "    }\n",
    "]\n"
   ]
  },
  {
   "cell_type": "code",
   "execution_count": 6,
   "metadata": {},
   "outputs": [
    {
     "name": "stdout",
     "output_type": "stream",
     "text": [
      "Question: Block my son's computers from malicious websites.\n",
      "\n",
      "<i2nsf-cfi-policy\n",
      "    xmlns=\"urn:ietf:params:xml:ns:yang:ietf-i2nsf-cfi-policy\">\n",
      "    <name>block_web_security_policy</name>\n",
      "    <rules>\n",
      "        <name>block_web</name>\n",
      "        <condition>\n",
      "            <firewall-condition>\n",
      "                <source>Son's_PC</source>\n",
      "            </firewall-condition>\n",
      "            <url-condition>\n",
      "                <url-name>malicious_websites</url-name>\n",
      "            </url-condition>\n",
      "        </condition>\n",
      "        <actions>\n",
      "            <primary-action>\n",
      "                <action>drop</action>\n",
      "            </primary-action>\n",
      "        </actions>\n",
      "    </rules>\n",
      "</i2nsf-cfi-policy>\n",
      "        \n"
     ]
    }
   ],
   "source": [
    "print(example_prompt.invoke(examples[0]).to_string())"
   ]
  },
  {
   "cell_type": "markdown",
   "metadata": {},
   "source": [
    "### Example Selector"
   ]
  },
  {
   "cell_type": "code",
   "execution_count": 9,
   "metadata": {},
   "outputs": [
    {
     "name": "stdout",
     "output_type": "stream",
     "text": [
      "Examples most similar to the input: Block all games during the nights at weekdays\n",
      "\n",
      "\n",
      "input: Block my son's computers from malicious websites.\n",
      "output: \n",
      "<i2nsf-cfi-policy\n",
      "    xmlns=\"urn:ietf:params:xml:ns:yang:ietf-i2nsf-cfi-policy\">\n",
      "    <name>block_web_security_policy</name>\n",
      "    <rules>\n",
      "        <name>block_web</name>\n",
      "        <condition>\n",
      "            <firewall-condition>\n",
      "                <source>Son's_PC</source>\n",
      "            </firewall-condition>\n",
      "            <url-condition>\n",
      "                <url-name>malicious_websites</url-name>\n",
      "            </url-condition>\n",
      "        </condition>\n",
      "        <actions>\n",
      "            <primary-action>\n",
      "                <action>drop</action>\n",
      "            </primary-action>\n",
      "        </actions>\n",
      "    </rules>\n",
      "</i2nsf-cfi-policy>\n",
      "        \n"
     ]
    }
   ],
   "source": [
    "from langchain_chroma import Chroma\n",
    "from langchain_core.example_selectors import SemanticSimilarityExampleSelector\n",
    "from langchain_openai import OpenAIEmbeddings\n",
    "\n",
    "example_selector = SemanticSimilarityExampleSelector.from_examples(\n",
    "    # This is the list of examples available to select from.\n",
    "    examples,\n",
    "    # This is the embedding class used to produce embeddings which are used to measure semantic similarity.\n",
    "    OpenAIEmbeddings(),\n",
    "    # This is the VectorStore class that is used to store the embeddings and do a similarity search over.\n",
    "    Chroma,\n",
    "    # This is the number of examples to produce.\n",
    "    k=1,\n",
    ")\n",
    "\n",
    "# Select the most similar example to the input.\n",
    "input = \"Block all games during the nights at weekdays\"\n",
    "selected_examples = example_selector.select_examples({\"input\": input})\n",
    "print(f\"Examples most similar to the input: {input}\")\n",
    "for example in selected_examples:\n",
    "    print(\"\\n\")\n",
    "    for k, v in example.items():\n",
    "        print(f\"{k}: {v}\")"
   ]
  },
  {
   "cell_type": "markdown",
   "metadata": {},
   "source": [
    "### FewShotPromptTemplate"
   ]
  },
  {
   "cell_type": "code",
   "execution_count": 18,
   "metadata": {},
   "outputs": [
    {
     "name": "stdout",
     "output_type": "stream",
     "text": [
      "Generate and return only the security policies in XML format based on the user's input.\n",
      "\n",
      "Question: Block my son's computers from malicious websites.\n",
      "\n",
      "<i2nsf-cfi-policy\n",
      "    xmlns=\"urn:ietf:params:xml:ns:yang:ietf-i2nsf-cfi-policy\">\n",
      "    <name>block_web_security_policy</name>\n",
      "    <rules>\n",
      "        <name>block_web</name>\n",
      "        <condition>\n",
      "            <firewall-condition>\n",
      "                <source>Son's_PC</source>\n",
      "            </firewall-condition>\n",
      "            <url-condition>\n",
      "                <url-name>malicious_websites</url-name>\n",
      "            </url-condition>\n",
      "        </condition>\n",
      "        <actions>\n",
      "            <primary-action>\n",
      "                <action>drop</action>\n",
      "            </primary-action>\n",
      "        </actions>\n",
      "    </rules>\n",
      "</i2nsf-cfi-policy>\n",
      "        \n",
      "\n",
      "Input: Block all games during the nights at weekdays\n"
     ]
    }
   ],
   "source": [
    "few_shot_prompt = FewShotPromptTemplate(\n",
    "    example_selector=example_selector,\n",
    "    example_prompt=example_prompt,\n",
    "    prefix=\"Generate and return only the security policies in XML format based on the user's input.\",\n",
    "    suffix=\"Input: {input}\",\n",
    "    input_variables=[\"input\"],\n",
    ")\n",
    "\n",
    "print(\n",
    "    few_shot_prompt.invoke({\"input\": \"Block all games during the nights at weekdays\"}).to_string()\n",
    ")"
   ]
  },
  {
   "cell_type": "markdown",
   "metadata": {},
   "source": [
    "### LLM"
   ]
  },
  {
   "cell_type": "code",
   "execution_count": 19,
   "metadata": {},
   "outputs": [],
   "source": [
    "from langchain_openai import ChatOpenAI\n",
    "model = ChatOpenAI(model=\"gpt-4o-mini\", temperature=0.0)"
   ]
  },
  {
   "cell_type": "code",
   "execution_count": 21,
   "metadata": {},
   "outputs": [
    {
     "name": "stdout",
     "output_type": "stream",
     "text": [
      "Generate and return only the security policies in XML format based on the user's input.\n",
      "\n",
      "Question: Block my son's computers from malicious websites.\n",
      "\n",
      "<i2nsf-cfi-policy\n",
      "    xmlns=\"urn:ietf:params:xml:ns:yang:ietf-i2nsf-cfi-policy\">\n",
      "    <name>block_web_security_policy</name>\n",
      "    <rules>\n",
      "        <name>block_web</name>\n",
      "        <condition>\n",
      "            <firewall-condition>\n",
      "                <source>Son's_PC</source>\n",
      "            </firewall-condition>\n",
      "            <url-condition>\n",
      "                <url-name>malicious_websites</url-name>\n",
      "            </url-condition>\n",
      "        </condition>\n",
      "        <actions>\n",
      "            <primary-action>\n",
      "                <action>drop</action>\n",
      "            </primary-action>\n",
      "        </actions>\n",
      "    </rules>\n",
      "</i2nsf-cfi-policy>\n",
      "        \n",
      "\n",
      "Input: Block all games during the nights at weekdays\n"
     ]
    }
   ],
   "source": [
    "from langchain_core.prompts import ChatPromptTemplate, FewShotChatMessagePromptTemplate\n",
    "print(few_shot_prompt.invoke(input=\"Block all games during the nights at weekdays\").to_messages()[-1].content)"
   ]
  },
  {
   "cell_type": "code",
   "execution_count": 22,
   "metadata": {},
   "outputs": [
    {
     "name": "stdout",
     "output_type": "stream",
     "text": [
      "```xml\n",
      "<i2nsf-cfi-policy\n",
      "    xmlns=\"urn:ietf:params:xml:ns:yang:ietf-i2nsf-cfi-policy\">\n",
      "    <name>block_games_night_policy</name>\n",
      "    <rules>\n",
      "        <name>block_games_night</name>\n",
      "        <condition>\n",
      "            <firewall-condition>\n",
      "                <source>All_Devices</source>\n",
      "            </firewall-condition>\n",
      "            <time-condition>\n",
      "                <day>Monday</day>\n",
      "                <day>Tuesday</day>\n",
      "                <day>Wednesday</day>\n",
      "                <day>Thursday</day>\n",
      "                <day>Friday</day>\n",
      "                <time>22:00-23:59</time>\n",
      "            </time-condition>\n",
      "            <application-condition>\n",
      "                <application-name>games</application-name>\n",
      "            </application-condition>\n",
      "        </condition>\n",
      "        <actions>\n",
      "            <primary-action>\n",
      "                <action>drop</action>\n",
      "            </primary-action>\n",
      "        </actions>\n",
      "    </rules>\n",
      "</i2nsf-cfi-policy>\n",
      "```\n"
     ]
    }
   ],
   "source": [
    "chain = few_shot_prompt | ChatOpenAI(model=\"gpt-4o-mini\", temperature=0.0)\n",
    "\n",
    "print(chain.invoke({\"input\": \"Block all games during the nights at weekdays\"}).content)"
   ]
  }
 ],
 "metadata": {
  "kernelspec": {
   "display_name": "PREST_PRUEBAS",
   "language": "python",
   "name": "python3"
  },
  "language_info": {
   "codemirror_mode": {
    "name": "ipython",
    "version": 3
   },
   "file_extension": ".py",
   "mimetype": "text/x-python",
   "name": "python",
   "nbconvert_exporter": "python",
   "pygments_lexer": "ipython3",
   "version": "3.11.9"
  }
 },
 "nbformat": 4,
 "nbformat_minor": 2
}
